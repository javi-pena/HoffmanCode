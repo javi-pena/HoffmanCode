{
 "cells": [
  {
   "cell_type": "code",
   "execution_count": 17,
   "id": "5e23cc82",
   "metadata": {},
   "outputs": [],
   "source": [
    "import cvxpy as cp\n",
    "import numpy as np\n",
    "from Hoffman import hoffman"
   ]
  },
  {
   "cell_type": "markdown",
   "id": "69ac3aa6",
   "metadata": {},
   "source": [
    "## Example 1: box\n",
    "\n",
    "$$\n",
    "A = \\begin{pmatrix}\n",
    "I_n \\\\ -I_n\n",
    "\\end{pmatrix}\n",
    "$$"
   ]
  },
  {
   "cell_type": "code",
   "execution_count": 18,
   "id": "e831d171",
   "metadata": {},
   "outputs": [
    {
     "name": "stdout",
     "output_type": "stream",
     "text": [
      "H(A) = 4.0\n"
     ]
    }
   ],
   "source": [
    "n = 4\n",
    "A = np.vstack([np.eye(n),-np.eye(n)])\n",
    "H, FF, II, iternumber = hoffman(A,1000)\n",
    "print(\"H(A) =\",H)"
   ]
  },
  {
   "cell_type": "markdown",
   "id": "0b389e28",
   "metadata": {},
   "source": [
    "## Example 2: simplex\n",
    "\n",
    "\n",
    "$$\n",
    "A = \\begin{pmatrix}\n",
    "I_n \\\\ -1^T\n",
    "\\end{pmatrix}\n",
    "$$\n"
   ]
  },
  {
   "cell_type": "code",
   "execution_count": 19,
   "id": "5b8f2dd3",
   "metadata": {},
   "outputs": [
    {
     "name": "stdout",
     "output_type": "stream",
     "text": [
      "H(A) = 11.0\n"
     ]
    }
   ],
   "source": [
    "n = 6\n",
    "A = np.vstack([np.eye(n),-np.ones(n)])\n",
    "H, FF, II, iternumber = hoffman(A,1000)\n",
    "print(\"H(A) =\",H)"
   ]
  },
  {
   "cell_type": "markdown",
   "id": "e0d2e258",
   "metadata": {},
   "source": [
    "## Example 3:  $\\; \\ell_1$ unit ball\n",
    "\n",
    "$$\n",
    "A = \\begin{pmatrix}\n",
    "-1 & -1 & \\cdots & -1 \\\\ \n",
    "-1 & -1 & \\cdots & 1 \\\\\n",
    "\\vdots & \\vdots & \\ddots & \\vdots\\\\\n",
    "1 & 1 & \\cdots & 1 \n",
    "\\end{pmatrix}\n",
    "$$"
   ]
  },
  {
   "cell_type": "code",
   "execution_count": 20,
   "id": "cc411e91",
   "metadata": {},
   "outputs": [
    {
     "name": "stdout",
     "output_type": "stream",
     "text": [
      "A=\n",
      " [[-1. -1. -1.]\n",
      " [-1. -1.  1.]\n",
      " [-1.  1. -1.]\n",
      " [-1.  1.  1.]\n",
      " [ 1. -1. -1.]\n",
      " [ 1. -1.  1.]\n",
      " [ 1.  1. -1.]\n",
      " [ 1.  1.  1.]]\n"
     ]
    }
   ],
   "source": [
    "n = 3\n",
    "A = -np.ones((4,2))\n",
    "A[1,1] = 1\n",
    "A[2,0] = 1\n",
    "A[3,:] = 1\n",
    "ni = 4\n",
    "# construct A recursively\n",
    "for i in range(n-2):\n",
    "    A1 = np.hstack([-np.ones((ni,1)),A])\n",
    "    A2 = np.hstack([np.ones((ni,1)),A])\n",
    "    A = np.vstack([A1,A2])\n",
    "    ni = 2*ni\n",
    "print(\"A=\\n\",A) "
   ]
  },
  {
   "cell_type": "code",
   "execution_count": 21,
   "id": "1ea2a176",
   "metadata": {},
   "outputs": [
    {
     "name": "stdout",
     "output_type": "stream",
     "text": [
      "H(A) = 3.0\n"
     ]
    }
   ],
   "source": [
    "H, FF, II, iternumber = hoffman(A,5000)\n",
    "print(\"H(A) =\",H)"
   ]
  },
  {
   "cell_type": "code",
   "execution_count": null,
   "id": "538c71a9",
   "metadata": {},
   "outputs": [],
   "source": []
  }
 ],
 "metadata": {
  "kernelspec": {
   "display_name": "Python 3",
   "language": "python",
   "name": "python3"
  },
  "language_info": {
   "codemirror_mode": {
    "name": "ipython",
    "version": 3
   },
   "file_extension": ".py",
   "mimetype": "text/x-python",
   "name": "python",
   "nbconvert_exporter": "python",
   "pygments_lexer": "ipython3",
   "version": "3.8.8"
  }
 },
 "nbformat": 4,
 "nbformat_minor": 5
}
