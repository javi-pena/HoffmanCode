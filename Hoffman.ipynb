{
 "cells": [
  {
   "cell_type": "markdown",
   "id": "7c0b90d7",
   "metadata": {},
   "source": [
    "This is a python implementation of an algorithm to compute Hoffman constants as described in Section 3.2 of the Math Programming article \"New characterizations of Hoffman constants for systems of linear constraints\", by Pena, Vera, Zuluaga.\n",
    "\n",
    "The code takes as input a matrix $A\\in \\mathbb{R}^{m\\times n}$ and computes the Hoffman constant $H(A)$ defined as follows.  For $b\\in \\mathbb{R}^m$ let $P_A(b):=\\{x\\in \\mathbb{R}^n: Ax\\le b\\}$.  Define\n",
    "$$\n",
    "H(A) = \\sup_{b \\in A(\\mathbb{R}^n) + \\mathbb{R}^m_+\\atop x \\not \\in P_A(b)}\\frac{\\|(Ax-b)_+\\|}{\\text{dist}(x,P_A(b))}.\n",
    "$$\n",
    "\n",
    "For ease of computation, we assume that $\\mathbb{R}^n$ and $\\mathbb{R}^m$ are endowed with the $\\ell_1$-norm and $\\ell_\\infty$-norm respectively.\n",
    "\n",
    "\n",
    "As described in Section 3.2 of the article, the code computes $H(A)$ as well as sets $\\mathcal F, \\mathcal I$ certifying the optimality of $H(A)$.  \n",
    "\n",
    "The syntax for the code is \n",
    "\n",
    "`H, FF, II, numitns = hoffman(A,maxiter)`\n",
    "\n",
    "The output `numitns` records the total number of main iterations.  This output is $-1$ when the maximum number of iterations `maxiter` is reached.  In that case the value of `H` is only a lower bound on $H(A)$.\n",
    "\n",
    "The main files are in the python file \"Hoffman.py\"\n",
    "This notebook illustrates the code in some instances of Examples 1, 2, and 3 from the above article.\n"
   ]
  },
  {
   "cell_type": "code",
   "execution_count": 1,
   "id": "5e23cc82",
   "metadata": {},
   "outputs": [],
   "source": [
    "import cvxpy as cp\n",
    "import numpy as np\n",
    "from Hoffman import hoffman"
   ]
  },
  {
   "cell_type": "code",
   "execution_count": 2,
   "id": "7301d0a0",
   "metadata": {},
   "outputs": [],
   "source": [
    "import scipy"
   ]
  },
  {
   "cell_type": "markdown",
   "id": "69ac3aa6",
   "metadata": {},
   "source": [
    "## Example 1: box\n",
    "\n",
    "$$\n",
    "A = \\begin{pmatrix}\n",
    "I_n \\\\ -I_n\n",
    "\\end{pmatrix}\n",
    "$$"
   ]
  },
  {
   "cell_type": "code",
   "execution_count": null,
   "id": "e831d171",
   "metadata": {},
   "outputs": [],
   "source": [
    "n = 4\n",
    "A = np.vstack([np.eye(n),-np.eye(n)])\n",
    "H, FF, II, iternumber = hoffman(A,1000)\n",
    "print(\"H(A) =\",H)"
   ]
  },
  {
   "cell_type": "markdown",
   "id": "0b389e28",
   "metadata": {},
   "source": [
    "## Example 2: simplex\n",
    "\n",
    "\n",
    "$$\n",
    "A = \\begin{pmatrix}\n",
    "I_n \\\\ -1^T\n",
    "\\end{pmatrix}\n",
    "$$\n"
   ]
  },
  {
   "cell_type": "code",
   "execution_count": null,
   "id": "5b8f2dd3",
   "metadata": {},
   "outputs": [],
   "source": [
    "n = 6\n",
    "A = np.vstack([np.eye(n),-np.ones(n)])\n",
    "H, FF, II, iternumber = hoffman(A,1000)\n",
    "print(\"H(A) =\",H)"
   ]
  },
  {
   "cell_type": "markdown",
   "id": "e0d2e258",
   "metadata": {},
   "source": [
    "## Example 3:  $\\; \\ell_1$ unit ball\n",
    "\n",
    "$$\n",
    "A = \\begin{pmatrix}\n",
    "-1 & -1 & \\cdots & -1 \\\\ \n",
    "-1 & -1 & \\cdots & 1 \\\\\n",
    "\\vdots & \\vdots & \\ddots & \\vdots\\\\\n",
    "1 & 1 & \\cdots & 1 \n",
    "\\end{pmatrix}\n",
    "$$"
   ]
  },
  {
   "cell_type": "code",
   "execution_count": null,
   "id": "cc411e91",
   "metadata": {},
   "outputs": [],
   "source": [
    "n = 3\n",
    "A = -np.ones((4,2))\n",
    "A[1,1] = 1\n",
    "A[2,0] = 1\n",
    "A[3,:] = 1\n",
    "ni = 4\n",
    "# construct A recursively\n",
    "for i in range(n-2):\n",
    "    A1 = np.hstack([-np.ones((ni,1)),A])\n",
    "    A2 = np.hstack([np.ones((ni,1)),A])\n",
    "    A = np.vstack([A1,A2])\n",
    "    ni = 2*ni\n",
    "print(\"A=\\n\",A) "
   ]
  },
  {
   "cell_type": "code",
   "execution_count": null,
   "id": "1ea2a176",
   "metadata": {},
   "outputs": [],
   "source": [
    "H, FF, II, iternumber = hoffman(A,5000)\n",
    "print(\"H(A) =\",H)"
   ]
  },
  {
   "cell_type": "code",
   "execution_count": null,
   "id": "538c71a9",
   "metadata": {},
   "outputs": [],
   "source": []
  }
 ],
 "metadata": {
  "kernelspec": {
   "display_name": "Python 3",
   "language": "python",
   "name": "python3"
  },
  "language_info": {
   "codemirror_mode": {
    "name": "ipython",
    "version": 3
   },
   "file_extension": ".py",
   "mimetype": "text/x-python",
   "name": "python",
   "nbconvert_exporter": "python",
   "pygments_lexer": "ipython3",
   "version": "3.8.8"
  }
 },
 "nbformat": 4,
 "nbformat_minor": 5
}
